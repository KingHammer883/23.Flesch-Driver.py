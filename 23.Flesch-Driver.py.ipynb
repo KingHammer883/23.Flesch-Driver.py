{
 "cells": [
  {
   "cell_type": "code",
   "execution_count": null,
   "metadata": {},
   "outputs": [],
   "source": [
    "# -*- coding: utf-8 -*-\n",
    "\"\"\"\n",
    "Created on Mon Jan 21, 2019\n",
    "Program: fleschdriver.py\n",
    "\n",
    "Test driver for Flesch Index and Grade level. \n",
    "\n",
    "@author: Byen23\n",
    "\"\"\"\n",
    "\n",
    "# Testing \n",
    "\"\"\"\n",
    "Although the main tasks all collaborate in a text analysis program, they can be tested more or less independently, before the entire program is tested. After all, there is no point in running the ocmplete program if you are unsure that even one of the tasks does not work correctly.\n",
    "\n",
    "This kind of procedure is called bottom-up testing. Each task is coded and tested for one or two tasks, you can test them in short script. THis script is caleld a driver. For example, here is a driver that tests the code for computing the Flesch Index and the Grade Level Equivalent without using a text file:\n",
    "\"\"\"\n",
    "sentences = int(input(\"Sentences: \"))\n",
    "words = int(input(\"Words: \"))\n",
    "syllables = int(input(\"Syllables: \"))\n",
    "\n",
    "index = 206.835 - 1.015 * (words / sentences) - \\\n",
    "\t    84.6 * (syllables / words)\n",
    "\t\t\n",
    "print(\"Flesch Index:\", index)\n",
    "\n",
    "level = round(0.39 * (words / sentences) + 11.8 * \\\n",
    "\t\t\t  (syllables / words) - 15.59)\n",
    "\n",
    "print(\"Grade Level: \", level)\n",
    "\n",
    "\"\"\"\n",
    "This driver allows the programmer not only to verify the two tasks, but also to obtain some data to use when testing the complete program later on. For example, the programmer acn supply a text file that contains the number of sentences, words, and syllables already tested in the driver, and then compare the two test results.\n",
    "\n",
    "In bottom-up testing, the lower-level tasks must be developed and tested before those tasks that depend on the lower-level tasks.\n",
    "\n",
    "When you have tested all of the parts, you can integrate them into the complete  program. The test data at that point should be short files that produce the expected results. THen, ou should use longer files. For example, you might see if plaintext versions of Dr. Sueuss's Green Eggs and Ham and Shakespeare's Hamlet produce grade levels of 5th grade and 12th grade, respectively. Or you could test the program with its own source program file--but we predict that its readbility will seem quite low, because it lacks most of the standard end-of-sentence marks!\n",
    "\n",
    "\"\"\""
   ]
  }
 ],
 "metadata": {
  "kernelspec": {
   "display_name": "Python 3",
   "language": "python",
   "name": "python3"
  },
  "language_info": {
   "codemirror_mode": {
    "name": "ipython",
    "version": 3
   },
   "file_extension": ".py",
   "mimetype": "text/x-python",
   "name": "python",
   "nbconvert_exporter": "python",
   "pygments_lexer": "ipython3",
   "version": "3.6.8"
  }
 },
 "nbformat": 4,
 "nbformat_minor": 2
}
